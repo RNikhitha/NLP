{
  "nbformat": 4,
  "nbformat_minor": 0,
  "metadata": {
    "colab": {
      "name": "NLP_Handson3.ipynb",
      "provenance": [],
      "collapsed_sections": [],
      "authorship_tag": "ABX9TyPTK2McwEF1rJ6HFWoC7SP/",
      "include_colab_link": true
    },
    "kernelspec": {
      "name": "python3",
      "display_name": "Python 3"
    },
    "language_info": {
      "name": "python"
    }
  },
  "cells": [
    {
      "cell_type": "markdown",
      "metadata": {
        "id": "view-in-github",
        "colab_type": "text"
      },
      "source": [
        "<a href=\"https://colab.research.google.com/github/RNikhitha/NLP/blob/main/NLP_Handson3.ipynb\" target=\"_parent\"><img src=\"https://colab.research.google.com/assets/colab-badge.svg\" alt=\"Open In Colab\"/></a>"
      ]
    },
    {
      "cell_type": "markdown",
      "source": [
        "TASK 1 - Lexicons"
      ],
      "metadata": {
        "id": "puMc87g6WKnt"
      }
    },
    {
      "cell_type": "markdown",
      "source": [
        "A) "
      ],
      "metadata": {
        "id": "98clYZVLX-RN"
      }
    },
    {
      "cell_type": "code",
      "source": [
        "import nltk\n",
        "nltk.download('stopwords')\n",
        "nltk.download('averaged_perceptron_tagger')"
      ],
      "metadata": {
        "colab": {
          "base_uri": "https://localhost:8080/"
        },
        "id": "o6Bxl4_uWBSO",
        "outputId": "8e8f8e37-6c23-4e9e-daf8-007680b5ac7a"
      },
      "execution_count": 3,
      "outputs": [
        {
          "output_type": "stream",
          "name": "stderr",
          "text": [
            "[nltk_data] Downloading package stopwords to /root/nltk_data...\n",
            "[nltk_data]   Package stopwords is already up-to-date!\n",
            "[nltk_data] Downloading package averaged_perceptron_tagger to\n",
            "[nltk_data]     /root/nltk_data...\n",
            "[nltk_data]   Unzipping taggers/averaged_perceptron_tagger.zip.\n"
          ]
        },
        {
          "output_type": "execute_result",
          "data": {
            "text/plain": [
              "True"
            ]
          },
          "metadata": {},
          "execution_count": 3
        }
      ]
    },
    {
      "cell_type": "code",
      "execution_count": 5,
      "metadata": {
        "colab": {
          "base_uri": "https://localhost:8080/"
        },
        "id": "CRBd21X9TfgS",
        "outputId": "fa672936-4226-4d10-f462-041ae7e5c027"
      },
      "outputs": [
        {
          "output_type": "execute_result",
          "data": {
            "text/plain": [
              "['i',\n",
              " 'me',\n",
              " 'my',\n",
              " 'myself',\n",
              " 'we',\n",
              " 'our',\n",
              " 'ours',\n",
              " 'ourselves',\n",
              " 'you',\n",
              " \"you're\",\n",
              " \"you've\",\n",
              " \"you'll\",\n",
              " \"you'd\",\n",
              " 'your',\n",
              " 'yours',\n",
              " 'yourself',\n",
              " 'yourselves',\n",
              " 'he',\n",
              " 'him',\n",
              " 'his',\n",
              " 'himself',\n",
              " 'she',\n",
              " \"she's\",\n",
              " 'her',\n",
              " 'hers',\n",
              " 'herself',\n",
              " 'it',\n",
              " \"it's\",\n",
              " 'its',\n",
              " 'itself',\n",
              " 'they',\n",
              " 'them',\n",
              " 'their',\n",
              " 'theirs',\n",
              " 'themselves',\n",
              " 'what',\n",
              " 'which',\n",
              " 'who',\n",
              " 'whom',\n",
              " 'this',\n",
              " 'that',\n",
              " \"that'll\",\n",
              " 'these',\n",
              " 'those',\n",
              " 'am',\n",
              " 'is',\n",
              " 'are',\n",
              " 'was',\n",
              " 'were',\n",
              " 'be',\n",
              " 'been',\n",
              " 'being',\n",
              " 'have',\n",
              " 'has',\n",
              " 'had',\n",
              " 'having',\n",
              " 'do',\n",
              " 'does',\n",
              " 'did',\n",
              " 'doing',\n",
              " 'a',\n",
              " 'an',\n",
              " 'the',\n",
              " 'and',\n",
              " 'but',\n",
              " 'if',\n",
              " 'or',\n",
              " 'because',\n",
              " 'as',\n",
              " 'until',\n",
              " 'while',\n",
              " 'of',\n",
              " 'at',\n",
              " 'by',\n",
              " 'for',\n",
              " 'with',\n",
              " 'about',\n",
              " 'against',\n",
              " 'between',\n",
              " 'into',\n",
              " 'through',\n",
              " 'during',\n",
              " 'before',\n",
              " 'after',\n",
              " 'above',\n",
              " 'below',\n",
              " 'to',\n",
              " 'from',\n",
              " 'up',\n",
              " 'down',\n",
              " 'in',\n",
              " 'out',\n",
              " 'on',\n",
              " 'off',\n",
              " 'over',\n",
              " 'under',\n",
              " 'again',\n",
              " 'further',\n",
              " 'then',\n",
              " 'once',\n",
              " 'here',\n",
              " 'there',\n",
              " 'when',\n",
              " 'where',\n",
              " 'why',\n",
              " 'how',\n",
              " 'all',\n",
              " 'any',\n",
              " 'both',\n",
              " 'each',\n",
              " 'few',\n",
              " 'more',\n",
              " 'most',\n",
              " 'other',\n",
              " 'some',\n",
              " 'such',\n",
              " 'no',\n",
              " 'nor',\n",
              " 'not',\n",
              " 'only',\n",
              " 'own',\n",
              " 'same',\n",
              " 'so',\n",
              " 'than',\n",
              " 'too',\n",
              " 'very',\n",
              " 's',\n",
              " 't',\n",
              " 'can',\n",
              " 'will',\n",
              " 'just',\n",
              " 'don',\n",
              " \"don't\",\n",
              " 'should',\n",
              " \"should've\",\n",
              " 'now',\n",
              " 'd',\n",
              " 'll',\n",
              " 'm',\n",
              " 'o',\n",
              " 're',\n",
              " 've',\n",
              " 'y',\n",
              " 'ain',\n",
              " 'aren',\n",
              " \"aren't\",\n",
              " 'couldn',\n",
              " \"couldn't\",\n",
              " 'didn',\n",
              " \"didn't\",\n",
              " 'doesn',\n",
              " \"doesn't\",\n",
              " 'hadn',\n",
              " \"hadn't\",\n",
              " 'hasn',\n",
              " \"hasn't\",\n",
              " 'haven',\n",
              " \"haven't\",\n",
              " 'isn',\n",
              " \"isn't\",\n",
              " 'ma',\n",
              " 'mightn',\n",
              " \"mightn't\",\n",
              " 'mustn',\n",
              " \"mustn't\",\n",
              " 'needn',\n",
              " \"needn't\",\n",
              " 'shan',\n",
              " \"shan't\",\n",
              " 'shouldn',\n",
              " \"shouldn't\",\n",
              " 'wasn',\n",
              " \"wasn't\",\n",
              " 'weren',\n",
              " \"weren't\",\n",
              " 'won',\n",
              " \"won't\",\n",
              " 'wouldn',\n",
              " \"wouldn't\"]"
            ]
          },
          "metadata": {},
          "execution_count": 5
        }
      ],
      "source": [
        "from nltk.corpus import stopwords  \n",
        "stopwords.words('english')"
      ]
    },
    {
      "cell_type": "code",
      "source": [
        "stopwords.words('dutch')"
      ],
      "metadata": {
        "colab": {
          "base_uri": "https://localhost:8080/"
        },
        "id": "-T3sNBg8WPaJ",
        "outputId": "e473ffb7-cbb6-45b9-fcfc-3a92d350761c"
      },
      "execution_count": 8,
      "outputs": [
        {
          "output_type": "execute_result",
          "data": {
            "text/plain": [
              "['de',\n",
              " 'en',\n",
              " 'van',\n",
              " 'ik',\n",
              " 'te',\n",
              " 'dat',\n",
              " 'die',\n",
              " 'in',\n",
              " 'een',\n",
              " 'hij',\n",
              " 'het',\n",
              " 'niet',\n",
              " 'zijn',\n",
              " 'is',\n",
              " 'was',\n",
              " 'op',\n",
              " 'aan',\n",
              " 'met',\n",
              " 'als',\n",
              " 'voor',\n",
              " 'had',\n",
              " 'er',\n",
              " 'maar',\n",
              " 'om',\n",
              " 'hem',\n",
              " 'dan',\n",
              " 'zou',\n",
              " 'of',\n",
              " 'wat',\n",
              " 'mijn',\n",
              " 'men',\n",
              " 'dit',\n",
              " 'zo',\n",
              " 'door',\n",
              " 'over',\n",
              " 'ze',\n",
              " 'zich',\n",
              " 'bij',\n",
              " 'ook',\n",
              " 'tot',\n",
              " 'je',\n",
              " 'mij',\n",
              " 'uit',\n",
              " 'der',\n",
              " 'daar',\n",
              " 'haar',\n",
              " 'naar',\n",
              " 'heb',\n",
              " 'hoe',\n",
              " 'heeft',\n",
              " 'hebben',\n",
              " 'deze',\n",
              " 'u',\n",
              " 'want',\n",
              " 'nog',\n",
              " 'zal',\n",
              " 'me',\n",
              " 'zij',\n",
              " 'nu',\n",
              " 'ge',\n",
              " 'geen',\n",
              " 'omdat',\n",
              " 'iets',\n",
              " 'worden',\n",
              " 'toch',\n",
              " 'al',\n",
              " 'waren',\n",
              " 'veel',\n",
              " 'meer',\n",
              " 'doen',\n",
              " 'toen',\n",
              " 'moet',\n",
              " 'ben',\n",
              " 'zonder',\n",
              " 'kan',\n",
              " 'hun',\n",
              " 'dus',\n",
              " 'alles',\n",
              " 'onder',\n",
              " 'ja',\n",
              " 'eens',\n",
              " 'hier',\n",
              " 'wie',\n",
              " 'werd',\n",
              " 'altijd',\n",
              " 'doch',\n",
              " 'wordt',\n",
              " 'wezen',\n",
              " 'kunnen',\n",
              " 'ons',\n",
              " 'zelf',\n",
              " 'tegen',\n",
              " 'na',\n",
              " 'reeds',\n",
              " 'wil',\n",
              " 'kon',\n",
              " 'niets',\n",
              " 'uw',\n",
              " 'iemand',\n",
              " 'geweest',\n",
              " 'andere']"
            ]
          },
          "metadata": {},
          "execution_count": 8
        }
      ]
    },
    {
      "cell_type": "code",
      "source": [
        "import nltk\n",
        "nltk.download('cmudict')"
      ],
      "metadata": {
        "colab": {
          "base_uri": "https://localhost:8080/"
        },
        "id": "lt19b04nWx-V",
        "outputId": "b04a6af5-36ef-47c4-df47-90bf26e47d9c"
      },
      "execution_count": 11,
      "outputs": [
        {
          "output_type": "stream",
          "name": "stderr",
          "text": [
            "[nltk_data] Downloading package cmudict to /root/nltk_data...\n",
            "[nltk_data]   Package cmudict is already up-to-date!\n"
          ]
        },
        {
          "output_type": "execute_result",
          "data": {
            "text/plain": [
              "True"
            ]
          },
          "metadata": {},
          "execution_count": 11
        }
      ]
    },
    {
      "cell_type": "markdown",
      "source": [
        "B) CMU Wordlist "
      ],
      "metadata": {
        "id": "dsH4-g9_XzNp"
      }
    },
    {
      "cell_type": "code",
      "source": [
        "entries = nltk.corpus.cmudict.entries()\n",
        "len(entries)"
      ],
      "metadata": {
        "colab": {
          "base_uri": "https://localhost:8080/"
        },
        "id": "EMOUlTYeWf_Y",
        "outputId": "54447295-c477-4c82-c427-fd6e2f09047d"
      },
      "execution_count": 12,
      "outputs": [
        {
          "output_type": "execute_result",
          "data": {
            "text/plain": [
              "133737"
            ]
          },
          "metadata": {},
          "execution_count": 12
        }
      ]
    },
    {
      "cell_type": "code",
      "source": [
        "entries[1:10]"
      ],
      "metadata": {
        "colab": {
          "base_uri": "https://localhost:8080/"
        },
        "id": "8s8pgGJZWp5y",
        "outputId": "c23dcc70-a637-4dae-a5e8-059bb95a9ffa"
      },
      "execution_count": 16,
      "outputs": [
        {
          "output_type": "execute_result",
          "data": {
            "text/plain": [
              "[('a.', ['EY1']),\n",
              " ('a', ['EY1']),\n",
              " ('a42128',\n",
              "  ['EY1',\n",
              "   'F',\n",
              "   'AO1',\n",
              "   'R',\n",
              "   'T',\n",
              "   'UW1',\n",
              "   'W',\n",
              "   'AH1',\n",
              "   'N',\n",
              "   'T',\n",
              "   'UW1',\n",
              "   'EY1',\n",
              "   'T']),\n",
              " ('aaa', ['T', 'R', 'IH2', 'P', 'AH0', 'L', 'EY1']),\n",
              " ('aaberg', ['AA1', 'B', 'ER0', 'G']),\n",
              " ('aachen', ['AA1', 'K', 'AH0', 'N']),\n",
              " ('aachener', ['AA1', 'K', 'AH0', 'N', 'ER0']),\n",
              " ('aaker', ['AA1', 'K', 'ER0']),\n",
              " ('aalseth', ['AA1', 'L', 'S', 'EH0', 'TH'])]"
            ]
          },
          "metadata": {},
          "execution_count": 16
        }
      ]
    },
    {
      "cell_type": "markdown",
      "source": [
        "C) Wordnet"
      ],
      "metadata": {
        "id": "_1e5HlrdYCEv"
      }
    },
    {
      "cell_type": "code",
      "source": [
        "nltk.download('wordnet')\n",
        "nltk.download('omw-1.4')"
      ],
      "metadata": {
        "colab": {
          "base_uri": "https://localhost:8080/"
        },
        "id": "NTUBwN92YYgK",
        "outputId": "df992d1a-c3b6-488e-96b0-af2ce83d5e56"
      },
      "execution_count": 20,
      "outputs": [
        {
          "output_type": "stream",
          "name": "stderr",
          "text": [
            "[nltk_data] Downloading package wordnet to /root/nltk_data...\n",
            "[nltk_data]   Package wordnet is already up-to-date!\n",
            "[nltk_data] Downloading package omw-1.4 to /root/nltk_data...\n"
          ]
        },
        {
          "output_type": "execute_result",
          "data": {
            "text/plain": [
              "True"
            ]
          },
          "metadata": {},
          "execution_count": 20
        }
      ]
    },
    {
      "cell_type": "code",
      "source": [
        "from nltk.corpus import wordnet as wn\n",
        "wn.synsets('redress')"
      ],
      "metadata": {
        "colab": {
          "base_uri": "https://localhost:8080/"
        },
        "id": "CYwAd9YWXewD",
        "outputId": "20cc72e5-6317-4bff-bb1f-02c954e9b326"
      },
      "execution_count": 25,
      "outputs": [
        {
          "output_type": "execute_result",
          "data": {
            "text/plain": [
              "[Synset('damages.n.01'), Synset('redress.n.02'), Synset('right.v.01')]"
            ]
          },
          "metadata": {},
          "execution_count": 25
        }
      ]
    },
    {
      "cell_type": "code",
      "source": [
        "wn.synset('damages.n.01').lemma_names()\n",
        "wn.synset('redress.n.02').lemma_names()\n",
        "wn.synset('right.v.01').lemma_names()"
      ],
      "metadata": {
        "colab": {
          "base_uri": "https://localhost:8080/"
        },
        "id": "vHgZ0CLRYUo4",
        "outputId": "86a3c388-5069-4994-faf2-790261cf5722"
      },
      "execution_count": 26,
      "outputs": [
        {
          "output_type": "execute_result",
          "data": {
            "text/plain": [
              "['right', 'compensate', 'redress', 'correct']"
            ]
          },
          "metadata": {},
          "execution_count": 26
        }
      ]
    },
    {
      "cell_type": "markdown",
      "source": [
        "TASK 2 - TEXT CLASSIFIER"
      ],
      "metadata": {
        "id": "CObbJ6qeY5Zs"
      }
    },
    {
      "cell_type": "code",
      "source": [
        "nltk.download('names')"
      ],
      "metadata": {
        "colab": {
          "base_uri": "https://localhost:8080/"
        },
        "id": "3e_uoBtRaUpV",
        "outputId": "5e3b2ae0-2b95-47bd-80b4-68517e62b53a"
      },
      "execution_count": 30,
      "outputs": [
        {
          "output_type": "stream",
          "name": "stderr",
          "text": [
            "[nltk_data] Downloading package names to /root/nltk_data...\n",
            "[nltk_data]   Unzipping corpora/names.zip.\n"
          ]
        },
        {
          "output_type": "execute_result",
          "data": {
            "text/plain": [
              "True"
            ]
          },
          "metadata": {},
          "execution_count": 30
        }
      ]
    },
    {
      "cell_type": "code",
      "source": [
        "def gender_features(word):\n",
        "  return{'last_letter':word[-1]}"
      ],
      "metadata": {
        "id": "RbdbXLp8Y-kF"
      },
      "execution_count": 31,
      "outputs": []
    },
    {
      "cell_type": "code",
      "source": [
        "gender_features('Obama')"
      ],
      "metadata": {
        "colab": {
          "base_uri": "https://localhost:8080/"
        },
        "id": "uNWZBsFYZl54",
        "outputId": "3363a07e-bb3a-4964-b245-1e7f9f8c4a19"
      },
      "execution_count": 32,
      "outputs": [
        {
          "output_type": "execute_result",
          "data": {
            "text/plain": [
              "{'last_letter': 'a'}"
            ]
          },
          "metadata": {},
          "execution_count": 32
        }
      ]
    },
    {
      "cell_type": "code",
      "source": [
        "from nltk.corpus import names\n",
        "labeled_names =([(name,'male') for name in names.words('male.txt')]+ [(name,'female') for name in names.words('female.txt')])"
      ],
      "metadata": {
        "id": "CQitGKohZqEU"
      },
      "execution_count": 34,
      "outputs": []
    },
    {
      "cell_type": "code",
      "source": [
        "import random\n",
        "random.shuffle(labeled_names)"
      ],
      "metadata": {
        "id": "_PGMK_XYaRd0"
      },
      "execution_count": 35,
      "outputs": []
    },
    {
      "cell_type": "code",
      "source": [
        "featuresets = [(gender_features(n),gender) for (n,gender) in labeled_names]"
      ],
      "metadata": {
        "id": "vjZAtYcfajaf"
      },
      "execution_count": 36,
      "outputs": []
    },
    {
      "cell_type": "code",
      "source": [
        "train_set,test_test=featuresets[500:],featuresets[500:]"
      ],
      "metadata": {
        "id": "iJ509XTKavuH"
      },
      "execution_count": 39,
      "outputs": []
    },
    {
      "cell_type": "code",
      "source": [
        "import nltk\n",
        "classifier = nltk.NaiveBayesClassifier.train(train_set)"
      ],
      "metadata": {
        "id": "jFtPsk69a68k"
      },
      "execution_count": 40,
      "outputs": []
    },
    {
      "cell_type": "code",
      "source": [
        "classifier.classify(gender_features('Nikhitha'))"
      ],
      "metadata": {
        "colab": {
          "base_uri": "https://localhost:8080/",
          "height": 36
        },
        "id": "U0oVdQPmbVmG",
        "outputId": "64a7cb60-3a51-42d7-8f7c-41b4a251ff9e"
      },
      "execution_count": 45,
      "outputs": [
        {
          "output_type": "execute_result",
          "data": {
            "text/plain": [
              "'female'"
            ],
            "application/vnd.google.colaboratory.intrinsic+json": {
              "type": "string"
            }
          },
          "metadata": {},
          "execution_count": 45
        }
      ]
    },
    {
      "cell_type": "code",
      "source": [
        "print(nltk.classify.accuracy(classifier,test_test))"
      ],
      "metadata": {
        "colab": {
          "base_uri": "https://localhost:8080/"
        },
        "id": "T-DR3DWPbaQ4",
        "outputId": "c3737006-d890-49ea-8bff-56cc5a2c6d2d"
      },
      "execution_count": 44,
      "outputs": [
        {
          "output_type": "stream",
          "name": "stdout",
          "text": [
            "0.7649113379903277\n"
          ]
        }
      ]
    },
    {
      "cell_type": "markdown",
      "source": [
        "Task 3- Vectorization & Cosine Similarity "
      ],
      "metadata": {
        "id": "vlAfrWo5by7S"
      }
    },
    {
      "cell_type": "code",
      "source": [
        "from sklearn.feature_extraction.text import CountVectorizer"
      ],
      "metadata": {
        "id": "yv1qJdmybrDb"
      },
      "execution_count": 46,
      "outputs": []
    },
    {
      "cell_type": "markdown",
      "source": [
        "vect.fit - creates unique words and creates a vocablary "
      ],
      "metadata": {
        "id": "mwI7MtrXc7hv"
      }
    },
    {
      "cell_type": "code",
      "source": [
        "vect = CountVectorizer(binary=True)\n",
        "corpus = [\"Tessarct is  good optical character recognition engine\",\"optical character recognition is significant\"]\n",
        "vect.fit(corpus)"
      ],
      "metadata": {
        "colab": {
          "base_uri": "https://localhost:8080/"
        },
        "id": "56GQQdbzcId7",
        "outputId": "ba4bea5e-6d35-4fc8-92f5-380946aa5309"
      },
      "execution_count": 47,
      "outputs": [
        {
          "output_type": "execute_result",
          "data": {
            "text/plain": [
              "CountVectorizer(binary=True)"
            ]
          },
          "metadata": {},
          "execution_count": 47
        }
      ]
    },
    {
      "cell_type": "code",
      "source": [
        "vocab = vect.vocabulary_"
      ],
      "metadata": {
        "id": "qKoAoLWwcp1Z"
      },
      "execution_count": 48,
      "outputs": []
    },
    {
      "cell_type": "code",
      "source": [
        "for key in sorted(vocab.keys()):\n",
        "  print(\"{}:{}\".format(key,vocab[key]))"
      ],
      "metadata": {
        "colab": {
          "base_uri": "https://localhost:8080/"
        },
        "id": "dSy6cUErc1gg",
        "outputId": "499f5053-eead-4d06-e192-0306f93b7e35"
      },
      "execution_count": 50,
      "outputs": [
        {
          "output_type": "stream",
          "name": "stdout",
          "text": [
            "character:0\n",
            "engine:1\n",
            "good:2\n",
            "is:3\n",
            "optical:4\n",
            "recognition:5\n",
            "significant:6\n",
            "tessarct:7\n"
          ]
        }
      ]
    },
    {
      "cell_type": "code",
      "source": [
        "print(vect.transform([\"This is a good optical illusion\"]).toarray())"
      ],
      "metadata": {
        "colab": {
          "base_uri": "https://localhost:8080/"
        },
        "id": "F7zS_8jVdSua",
        "outputId": "f2a8f253-a603-4fb9-8ca4-9cacf24a5a91"
      },
      "execution_count": 52,
      "outputs": [
        {
          "output_type": "stream",
          "name": "stdout",
          "text": [
            "[[0 0 1 1 1 0 0 0]]\n"
          ]
        }
      ]
    },
    {
      "cell_type": "code",
      "source": [
        "print(vect.transform(corpus).toarray())"
      ],
      "metadata": {
        "colab": {
          "base_uri": "https://localhost:8080/"
        },
        "id": "wVRP2tMfd2nD",
        "outputId": "66fb7d29-2a65-4b26-f70f-05099e1aec24"
      },
      "execution_count": 53,
      "outputs": [
        {
          "output_type": "stream",
          "name": "stdout",
          "text": [
            "[[1 1 1 1 1 1 0 1]\n",
            " [1 0 0 1 1 1 1 0]]\n"
          ]
        }
      ]
    },
    {
      "cell_type": "code",
      "source": [
        "from sklearn.metrics.pairwise import cosine_similarity"
      ],
      "metadata": {
        "id": "1jHpK2iMeC-t"
      },
      "execution_count": 54,
      "outputs": []
    },
    {
      "cell_type": "code",
      "source": [
        "similairy = cosine_similarity(vect.transform(['This is nlp handson class']).toarray(), vect.transform(['Ocr is an optical character recoginition engine']).toarray())"
      ],
      "metadata": {
        "id": "7sAsUxCue8Tn"
      },
      "execution_count": 55,
      "outputs": []
    },
    {
      "cell_type": "code",
      "source": [
        "print(similairy)"
      ],
      "metadata": {
        "colab": {
          "base_uri": "https://localhost:8080/"
        },
        "id": "7ZfvJmg1fkgg",
        "outputId": "502b8f76-c489-4861-cb6d-f427456820bc"
      },
      "execution_count": 56,
      "outputs": [
        {
          "output_type": "stream",
          "name": "stdout",
          "text": [
            "[[0.5]]\n"
          ]
        }
      ]
    }
  ]
}